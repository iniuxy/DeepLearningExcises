{
 "cells": [
  {
   "cell_type": "markdown",
   "metadata": {},
   "source": [
    "# AutoEncoder"
   ]
  },
  {
   "cell_type": "code",
   "execution_count": 1,
   "metadata": {},
   "outputs": [],
   "source": [
    "import tensorflow as tf\n",
    "from examples.autoencoder.utils import *\n",
    "from examples.autoencoder.layers import *\n",
    "\n",
    "\n",
    "def encoder(input):\n",
    "    # Create a conv network with 3 conv layers and 1 FC layer\n",
    "    # Conv 1: filter: [3, 3, 1], stride: [2, 2], relu\n",
    "    #conv1 = conv(input, \"convlayer1\", [3, 3, 1], [2, 2], padding='SAME', non_linear_fn=tf.nn.relu)\n",
    "\n",
    "    # Conv 2: filter: [3, 3, 8], stride: [2, 2], relu\n",
    "    #conv2 = conv(conv1, \"convlayer2\", [3, 3, 8], [2, 2], padding='SAME', non_linear_fn=tf.nn.relu)\n",
    "\n",
    "    # Conv 3: filter: [3, 3, 8], stride: [2, 2], relu\n",
    "    #conv3 = conv(conv2, \"convlayer3\", [3, 3, 8], [2, 2], padding='SAME', non_linear_fn=tf.nn.relu)\n",
    "\n",
    "    # FC: output_dim: 100, no non-linearity\n",
    "    #return fc(conv3, \"fclayer\", 100, non_linear_fn=None)\n",
    "\n",
    "    conv1 = conv(input, 'conv1', [3, 3, 1], [2, 2])\n",
    "    conv2 = conv(conv1, 'conv2', [3, 3, 8], [2, 2])\n",
    "    conv3 = conv(conv2, 'conv3', [3, 3, 8], [2, 2])\n",
    "    fc_enc = fc(conv3, 'fc_enc', 100, non_linear_fn=None)\n",
    "    return fc_enc"
   ]
  },
  {
   "cell_type": "code",
   "execution_count": 2,
   "metadata": {},
   "outputs": [],
   "source": [
    "def decoder(input):\n",
    "    # Create a deconv network with 1 FC layer and 3 deconv layers\n",
    "    # FC: output dim: 128, relu\n",
    "    #fc_de = fc(input, \"decode_fc\", 128)\n",
    "\n",
    "    # Reshape to [batch_size, 4, 4, 8]\n",
    "    #fc_de = tf.reshape(fc_de, [-1, 4, 4, 8])\n",
    "\n",
    "    # Deconv 1: filter: [3, 3, 8], stride: [2, 2], relu\n",
    "\n",
    "    #deconv1 = deconv(fc_de, \"deconv1\", [3, 3, 8], [2, 2])\n",
    "\n",
    "    # Deconv 2: filter: [8, 8, 1], stride: [2, 2], padding: valid, relu\n",
    "\n",
    "    #deconv2 = deconv(deconv1, \"deconv2\", [8, 8, 1], [2, 2], padding='VALID')\n",
    "\n",
    "    # Deconv 3: filter: [7, 7, 1], stride: [1, 1], padding: valid, sigmoid\n",
    "    #deconv3 = deconv(deconv2, \"deconv3\", [7, 7, 1], [1, 1], padding='VALID',\n",
    "                     #non_linear_fn=tf.sigmoid)\n",
    "\n",
    "    #return deconv3\n",
    "    fc_dec = fc(input, 'fc_dec', 128)\n",
    "    fc_dec_reshaped = tf.reshape(fc_dec, [-1, 4, 4, 8])\n",
    "    deconv1 = deconv(fc_dec_reshaped, 'deconv1', [3, 3, 8], [2, 2])\n",
    "    deconv2 = deconv(deconv1, 'deconv2', [8, 8, 1], [2, 2], padding='VALID')\n",
    "    deconv3 = deconv(deconv2, 'deconv3', [7, 7, 1], [1, 1], padding='VALID', non_linear_fn=tf.sigmoid)\n",
    "    return deconv3"
   ]
  },
  {
   "cell_type": "code",
   "execution_count": 3,
   "metadata": {},
   "outputs": [],
   "source": [
    "def autoencoder(input_shape):\n",
    "    # Define place holder with input shape\n",
    "    #X = tf.placeholder(tf.float32, input_shape)\n",
    "    # Define variable scope for autoencoder\n",
    "    #with tf.variable_scope('autoencoder') as scope:\n",
    "        # Pass input to encoder to obtain encoding\n",
    "        #encode = encoder(X)\n",
    "        # Pass encoding into decoder to obtain reconstructed image\n",
    "        #decode = decoder(encode)\n",
    "        # Return input image (placeholder) and reconstructed image\n",
    "        #return X, decode\n",
    "    \n",
    "    input_image = tf.placeholder(tf.float32,\n",
    "                                 input_shape,\n",
    "                                 name='input_image')\n",
    "\n",
    "    with tf.variable_scope('autoencoder') as scope:\n",
    "        encoding = encoder(input_image)\n",
    "        reconstructed_image = decoder(encoding)\n",
    "        return input_image, reconstructed_image"
   ]
  },
  {
   "cell_type": "code",
   "execution_count": 4,
   "metadata": {},
   "outputs": [],
   "source": [
    "batch_size = 100\n",
    "batch_shape = (batch_size, 28, 28, 1)\n",
    "num_visualize = 10\n",
    "\n",
    "lr = 0.01\n",
    "num_epochs = 50"
   ]
  },
  {
   "cell_type": "code",
   "execution_count": 5,
   "metadata": {},
   "outputs": [],
   "source": [
    "def calculate_loss(original, reconstructed):\n",
    "    return tf.div(tf.reduce_sum(tf.square(tf.subtract(reconstructed,\n",
    "                                                 original))), \n",
    "                  tf.constant(float(batch_size)))\n",
    "\n",
    "def train(dataset):\n",
    "    input_image, reconstructed_image = autoencoder(batch_shape)\n",
    "    loss = calculate_loss(input_image, reconstructed_image)\n",
    "    optimizer = tf.train.GradientDescentOptimizer(lr).minimize(loss)\n",
    "\n",
    "    init = tf.global_variables_initializer()\n",
    "    with tf.Session() as session:\n",
    "        session.run(init)\n",
    "\n",
    "        dataset_size = len(dataset.train.images)\n",
    "        print(\"Dataset size:\", dataset_size)\n",
    "        num_iters = int((num_epochs * dataset_size)/batch_size)\n",
    "        print(\"Num iters:\", num_iters)\n",
    "        for step in range(num_iters):\n",
    "            input_batch  = get_next_batch(dataset.train, batch_size)\n",
    "            loss_val,  _ = session.run([loss, optimizer], \n",
    "                                       feed_dict={input_image: input_batch})\n",
    "            if step % 1000 == 0:\n",
    "                print(\"Loss at step\", step, \":\", loss_val)\n",
    "\n",
    "        test_batch = get_next_batch(dataset.test, batch_size)\n",
    "        reconstruction = session.run(reconstructed_image,\n",
    "                                     feed_dict={input_image: test_batch})\n",
    "        visualize(test_batch, reconstruction, num_visualize)"
   ]
  },
  {
   "cell_type": "code",
   "execution_count": 6,
   "metadata": {},
   "outputs": [
    {
     "name": "stdout",
     "output_type": "stream",
     "text": [
      "Extracting MNIST_data/train-images-idx3-ubyte.gz\n",
      "Extracting MNIST_data/train-labels-idx1-ubyte.gz\n",
      "Extracting MNIST_data/t10k-images-idx3-ubyte.gz\n",
      "Extracting MNIST_data/t10k-labels-idx1-ubyte.gz\n",
      "Dataset size: 55000\n",
      "Num iters: 27500\n",
      "Loss at step 0 : 109.0\n",
      "Loss at step 1000 : 74.7032\n",
      "Loss at step 2000 : 67.346\n",
      "Loss at step 3000 : 73.102\n",
      "Loss at step 4000 : 71.7425\n",
      "Loss at step 5000 : 72.9848\n",
      "Loss at step 6000 : 68.5668\n",
      "Loss at step 7000 : 78.8067\n",
      "Loss at step 8000 : 74.069\n",
      "Loss at step 9000 : 73.6292\n",
      "Loss at step 10000 : 77.0401\n",
      "Loss at step 11000 : 72.4566\n",
      "Loss at step 12000 : 74.0477\n",
      "Loss at step 13000 : 72.9015\n",
      "Loss at step 14000 : 76.974\n",
      "Loss at step 15000 : 73.2306\n",
      "Loss at step 16000 : 71.3954\n",
      "Loss at step 17000 : 76.2503\n",
      "Loss at step 18000 : 77.7788\n",
      "Loss at step 19000 : 75.4849\n",
      "Loss at step 20000 : 69.9086\n",
      "Loss at step 21000 : 74.902\n",
      "Loss at step 22000 : 77.0754\n",
      "Loss at step 23000 : 72.4134\n",
      "Loss at step 24000 : 76.1562\n",
      "Loss at step 25000 : 73.5393\n",
      "Loss at step 26000 : 76.1551\n",
      "Loss at step 27000 : 79.3972\n"
     ]
    },
    {
     "data": {
      "image/png": "[encoded data removed]",
      "text/plain": [
       "<matplotlib.figure.Figure at 0x7f5a3746bfd0>"
      ]
     },
     "metadata": {},
     "output_type": "display_data"
    },
    {
     "data": {
      "image/png": "[encoded data removed]",
      "text/plain": [
       "<matplotlib.figure.Figure at 0x7f5a332e0240>"
      ]
     },
     "metadata": {},
     "output_type": "display_data"
    },
    {
     "data": {
      "image/png": "[encoded data removed]",
      "text/plain": [
       "<matplotlib.figure.Figure at 0x7f5a332bc7f0>"
      ]
     },
     "metadata": {},
     "output_type": "display_data"
    },
    {
     "data": {
      "image/png": "[encoded data removed]",
      "text/plain": [
       "<matplotlib.figure.Figure at 0x7f5a30b57cf8>"
      ]
     },
     "metadata": {},
     "output_type": "display_data"
    },
    {
     "data": {
      "image/png": "[encoded data removed]",
      "text/plain": [
       "<matplotlib.figure.Figure at 0x7f5a30ac72e8>"
      ]
     },
     "metadata": {},
     "output_type": "display_data"
    },
    {
     "data": {
      "image/png": "[encoded data removed]",
      "text/plain": [
       "<matplotlib.figure.Figure at 0x7f5a30a233c8>"
      ]
     },
     "metadata": {},
     "output_type": "display_data"
    },
    {
     "data": {
      "image/png": "[encoded data removed]",
      "text/plain": [
       "<matplotlib.figure.Figure at 0x7f5a305edc88>"
      ]
     },
     "metadata": {},
     "output_type": "display_data"
    },
    {
     "data": {
      "image/png": "[encoded data removed]",
      "text/plain": [
       "<matplotlib.figure.Figure at 0x7f5a305a48d0>"
      ]
     },
     "metadata": {},
     "output_type": "display_data"
    },
    {
     "data": {
      "image/png": "[encoded data removed]",
      "text/plain": [
       "<matplotlib.figure.Figure at 0x7f5a30b54518>"
      ]
     },
     "metadata": {},
     "output_type": "display_data"
    },
    {
     "data": {
      "image/png": "[encoded data removed]",
      "text/plain": [
       "<matplotlib.figure.Figure at 0x7f5a304a33c8>"
      ]
     },
     "metadata": {},
     "output_type": "display_data"
    }
   ],
   "source": [
    "if __name__ == '__main__':\n",
    "    tf.reset_default_graph()\n",
    "    dataset = load_dataset()\n",
    "    train(dataset)"
   ]
  },
  {
   "cell_type": "code",
   "execution_count": null,
   "metadata": {},
   "outputs": [],
   "source": []
  }
 ],
 "metadata": {
  "kernelspec": {
   "display_name": "Python 3",
   "language": "python",
   "name": "python3"
  },
  "language_info": {
   "codemirror_mode": {
    "name": "ipython",
    "version": 3
   },
   "file_extension": ".py",
   "mimetype": "text/x-python",
   "name": "python",
   "nbconvert_exporter": "python",
   "pygments_lexer": "ipython3",
   "version": "3.5.2"
  }
 },
 "nbformat": 4,
 "nbformat_minor": 2
}
